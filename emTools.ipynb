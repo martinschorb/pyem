{
 "cells": [
  {
   "cell_type": "markdown",
   "metadata": {},
   "source": [
    "# emTools\n",
    "\n",
    "### a Python module to interact with SerialEM to enable automated Transmission Electron Microscopy\n",
    "\n",
    "## Installation instructions\n",
    "\n",
    "### Prepare your PC for the use of Python and emTools\n",
    "\n",
    "- first we will install Python and then use it to fetch the packages needed for emTools to work.\n",
    "- Install Anaconda from [here](https://www.anaconda.com/download/ \"Download Anaconda\"). EmTools has been tested to work with both Python 2 and 3. \n",
    "- Start the Anaconda [Navigator](http://docs.anaconda.com/anaconda/user-guide/getting-started/ \"Getting started with Anaconda\")\n",
    "- as explained in [section 4](http://docs.anaconda.com/anaconda/user-guide/getting-started/#run-python-in-a-jupyter-notebook \"Run Python in a Jupyter Notebook\"), install and start a Jupyter notebook.\n",
    "- Download this [tutorial file](https://git.embl.de/schorb/serialem_tools/raw/master/emTools.ipynb) (use \"save link as...\"), open it in you Jupyter session and follow the instructions.\n"
   ]
  },
  {
   "cell_type": "markdown",
   "metadata": {},
   "source": [
    "----\n",
    "### How to use this jupyter notebook\n",
    "\n",
    "In this document there are text blocks and code blocks that can be edited and executed.\n",
    "In order to run a code block, click into it to activate and then press CTRL+Enter.\n",
    "\n",
    "\n",
    "### Install necessary dependencies in Python\n",
    "\n",
    "The following code block uses Anaconda to fetch necessary packages"
   ]
  },
  {
   "cell_type": "code",
   "execution_count": null,
   "metadata": {
    "scrolled": true
   },
   "outputs": [],
   "source": [
    "import conda.cli\n",
    "\n",
    "conda.cli.main('conda', 'install',  '-y', 'numpy', 'scipy', 'pandas', 'scikit-image', 'git')\n",
    "conda.cli.main('conda', 'install',  '-y', '-c conda-forge', 'tifffile')"
   ]
  },
  {
   "cell_type": "markdown",
   "metadata": {},
   "source": [
    "Now we will install emTools using pip, another package manager for Python."
   ]
  },
  {
   "cell_type": "code",
   "execution_count": 4,
   "metadata": {},
   "outputs": [
    {
     "name": "stdout",
     "output_type": "stream",
     "text": [
      "Collecting git+https://git.embl.de/schorb/serialem_tools\n",
      "  Cloning https://git.embl.de/schorb/serialem_tools to /tmp/pip-req-build-RdXVIJ\n",
      "Requirement already satisfied (use --upgrade to upgrade): emtools==20181126 from git+https://git.embl.de/schorb/serialem_tools in /g/emcf/schorb/code/python\n",
      "Requirement already satisfied: numpy in /g/emcf/software/python/anaconda2/lib/python2.7/site-packages (from emtools==20181126) (1.15.4)\n",
      "Requirement already satisfied: scipy in /g/emcf/software/python/anaconda2/lib/python2.7/site-packages (from emtools==20181126) (1.1.0)\n",
      "Requirement already satisfied: tifffile in /g/emcf/software/python/anaconda2/lib/python2.7/site-packages (from emtools==20181126) (0.15.1)\n",
      "Requirement already satisfied: mrcfile in /g/emcf/software/python/anaconda2/lib/python2.7/site-packages (from emtools==20181126) (1.0.1)\n",
      "Requirement already satisfied: enum34; python_version < \"3.0\" in /g/emcf/software/python/anaconda2/lib/python2.7/site-packages (from tifffile->emtools==20181126) (1.1.6)\n",
      "Requirement already satisfied: pathlib; python_version < \"3.0\" in /g/emcf/software/python/anaconda2/lib/python2.7/site-packages (from tifffile->emtools==20181126) (1.0.1)\n",
      "Requirement already satisfied: futures; python_version == \"2.7\" in /g/emcf/software/python/anaconda2/lib/python2.7/site-packages (from tifffile->emtools==20181126) (3.1.1)\n",
      "Building wheels for collected packages: emtools\n",
      "  Running setup.py bdist_wheel for emtools: started\n",
      "  Running setup.py bdist_wheel for emtools: finished with status 'done'\n",
      "  Stored in directory: /tmp/pip-ephem-wheel-cache-gjiLXX/wheels/df/10/5b/df26f629698cb6cf14998c6211bee9dda9e936fca42d632436\n",
      "Successfully built emtools\n"
     ]
    },
    {
     "name": "stderr",
     "output_type": "stream",
     "text": [
      "You are using pip version 10.0.1, however version 18.1 is available.\n",
      "You should consider upgrading via the 'pip install --upgrade pip' command.\n"
     ]
    },
    {
     "data": {
      "text/plain": [
       "0"
      ]
     },
     "execution_count": 4,
     "metadata": {},
     "output_type": "execute_result"
    }
   ],
   "source": [
    "from pip._internal import main as pipmain\n",
    "\n",
    "pipmain(['install','git+https://git.embl.de/schorb/serialem_tools'])"
   ]
  }
 ],
 "metadata": {
  "kernelspec": {
   "display_name": "Python 2",
   "language": "python",
   "name": "python2"
  },
  "language_info": {
   "codemirror_mode": {
    "name": "ipython",
    "version": 2
   },
   "file_extension": ".py",
   "mimetype": "text/x-python",
   "name": "python",
   "nbconvert_exporter": "python",
   "pygments_lexer": "ipython2",
   "version": "2.7.15"
  }
 },
 "nbformat": 4,
 "nbformat_minor": 2
}
