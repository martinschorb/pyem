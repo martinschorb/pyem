{
 "cells": [
  {
   "cell_type": "markdown",
   "metadata": {},
   "source": [
    "# emTools\n",
    "\n",
    "### a Python package to interact with SerialEM to enable automated Transmission Electron Microscopy\n",
    "\n",
    "## Installation instructions\n",
    "\n",
    "- Install Anaconda from [here](https://www.anaconda.com/download/ \"Download Anaconda\")\n",
    "- Start the Anaconda [Navigator](http://docs.anaconda.com/anaconda/user-guide/getting-started/ \"Getting started with Anaconda\")\n",
    "- as explained in [section 4](http://docs.anaconda.com/anaconda/user-guide/getting-started/#run-python-in-a-jupyter-notebook \"Run Python in a Jupyter Notebook\"), install and start a Jupyter notebook.\n",
    "- Download this [tutorial file] and follow the instructions.\n",
    "- in the Anaconda terminal run: conda install -c conda-forge tifffile numpy scipy pandas scikit-image git\n",
    "- then run pip install git+https://git.embl.de/schorb/serialem_tools\n"
   ]
  },
  {
   "cell_type": "code",
   "execution_count": 5,
   "metadata": {},
   "outputs": [
    {
     "name": "stdout",
     "output_type": "stream",
     "text": [
      "Solving environment: ...working... done\n",
      "\n",
      "# All requested packages already installed.\n",
      "\n",
      "Solving environment: ...working... done\n"
     ]
    },
    {
     "name": "stderr",
     "output_type": "stream",
     "text": [
      "\r",
      "ca-certificates-2018 | 135 KB    |            |   0% "
     ]
    },
    {
     "name": "stdout",
     "output_type": "stream",
     "text": [
      "\n",
      "## Package Plan ##\n",
      "\n",
      "  environment location: /g/emcf/software/python/anaconda2\n",
      "\n",
      "  added / updated specs: \n",
      "    - tifffile\n",
      "\n",
      "\n",
      "The following packages will be downloaded:\n",
      "\n",
      "    package                    |            build\n",
      "    ---------------------------|-----------------\n",
      "    ca-certificates-2018.10.15 |       ha4d7672_0         135 KB  conda-forge\n",
      "    future-0.17.0              |        py27_1000         708 KB  conda-forge\n",
      "    conda-4.5.11               |        py27_1000         651 KB  conda-forge\n",
      "    tifffile-0.15.1            |   py27h7eb728f_1         206 KB  conda-forge\n",
      "    backports.lzma-0.0.13      |   py27h8fe5b11_0          47 KB  conda-forge\n",
      "    certifi-2018.10.15         |        py27_1000         138 KB  conda-forge\n",
      "    openssl-1.0.2p             |       h470a237_1         3.1 MB  conda-forge\n",
      "    pathlib-1.0.1              |             py_1          15 KB  conda-forge\n",
      "    ------------------------------------------------------------\n",
      "                                           Total:         5.0 MB\n",
      "\n",
      "The following NEW packages will be INSTALLED:\n",
      "\n",
      "    backports.lzma:  0.0.13-py27h8fe5b11_0 conda-forge\n",
      "    future:          0.17.0-py27_1000      conda-forge\n",
      "    pathlib:         1.0.1-py_1            conda-forge\n",
      "    tifffile:        0.15.1-py27h7eb728f_1 conda-forge\n",
      "\n",
      "The following packages will be UPDATED:\n",
      "\n",
      "    ca-certificates: 2018.03.07-0                      --> 2018.10.15-ha4d7672_0 conda-forge\n",
      "    certifi:         2018.10.15-py27_0                 --> 2018.10.15-py27_1000  conda-forge\n",
      "    conda:           4.5.11-py27_0                     --> 4.5.11-py27_1000      conda-forge\n",
      "    openssl:         1.0.2p-h14c3975_0                 --> 1.0.2p-h470a237_1     conda-forge\n",
      "\n",
      "\n",
      "Downloading and Extracting Packages\n"
     ]
    },
    {
     "name": "stderr",
     "output_type": "stream",
     "text": [
      "ca-certificates-2018 | 135 KB    | ########## | 100% \n",
      "future-0.17.0        | 708 KB    | ########## | 100% \n",
      "conda-4.5.11         | 651 KB    | ########## | 100% \n",
      "tifffile-0.15.1      | 206 KB    | ########## | 100% \n",
      "backports.lzma-0.0.1 | 47 KB     | ########## | 100% \n",
      "certifi-2018.10.15   | 138 KB    | ########## | 100% \n",
      "openssl-1.0.2p       | 3.1 MB    | ########## | 100% \n",
      "pathlib-1.0.1        | 15 KB     | ########## | 100% "
     ]
    },
    {
     "name": "stdout",
     "output_type": "stream",
     "text": [
      "Preparing transaction: ...working... "
     ]
    },
    {
     "name": "stderr",
     "output_type": "stream",
     "text": [
      "\n"
     ]
    },
    {
     "name": "stdout",
     "output_type": "stream",
     "text": [
      "done\n",
      "Verifying transaction: ...working... done\n",
      "Executing transaction: ...working... done\n"
     ]
    }
   ],
   "source": [
    "import conda.cli\n",
    "\n",
    "conda.cli.main('conda', 'install',  '-y', 'numpy', 'scipy', 'pandas', 'scikit-image', 'git')\n",
    "conda.cli.main('conda', 'install',  '-y', '-c conda-forge', 'tifffile')"
   ]
  },
  {
   "cell_type": "code",
   "execution_count": null,
   "metadata": {
    "collapsed": true
   },
   "outputs": [],
   "source": []
  }
 ],
 "metadata": {
  "kernelspec": {
   "display_name": "Python 2",
   "language": "python",
   "name": "python2"
  },
  "language_info": {
   "codemirror_mode": {
    "name": "ipython",
    "version": 2
   },
   "file_extension": ".py",
   "mimetype": "text/x-python",
   "name": "python",
   "nbconvert_exporter": "python",
   "pygments_lexer": "ipython2",
   "version": "2.7.13"
  }
 },
 "nbformat": 4,
 "nbformat_minor": 2
}
