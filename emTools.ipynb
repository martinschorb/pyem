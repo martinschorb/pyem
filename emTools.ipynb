{
 "cells": [
  {
   "cell_type": "markdown",
   "metadata": {},
   "source": [
    "# emTools\n",
    "\n",
    "### a Python module to interact with SerialEM to enable automated Transmission Electron Microscopy\n",
    "\n",
    "## Table of contents\n",
    "1. [Installation instructions](#installation)\n",
    "  - How to use this jupyter notebook\n",
    "  - Install necessary dependencies in Python\n",
    "  - [install/update emTools](#install1)\n",
    "\n",
    "2. [Getting started](#howtos)\n",
    "  - [Tutorial 1: Sort a Navigator](#tutorial1)\n"
   ]
  },
  {
   "cell_type": "markdown",
   "metadata": {},
   "source": [
    "## Installation instructions<a name=\"installation\"></a>\n",
    "\n",
    "### Prepare your PC for the use of Python and emTools\n",
    "\n",
    "- first we will install Python and then use it to fetch the packages needed for emTools to work.\n",
    "- Install Anaconda from [here](https://www.anaconda.com/download/ \"Download Anaconda\"). EmTools has been tested to work with both Python 2 and 3. Choose the appropriate OS.\n",
    "- Start the Anaconda [Navigator](http://docs.anaconda.com/anaconda/user-guide/getting-started/ \"Getting started with Anaconda\").\n",
    "- as explained in [section 4](http://docs.anaconda.com/anaconda/user-guide/getting-started/#run-python-in-a-jupyter-notebook \"Run Python in a Jupyter Notebook\"), install and start a Jupyter notebook.\n",
    "- Download this [tutorial file](https://git.embl.de/schorb/serialem_tools/raw/master/emTools.ipynb) (use \"save link as...\"), open it in your Jupyter session and follow the instructions."
   ]
  },
  {
   "cell_type": "markdown",
   "metadata": {},
   "source": [
    "----\n",
    "### How to use this jupyter notebook\n",
    "\n",
    "In this document there are text blocks and code blocks that can be edited and executed.\n",
    "In order to run a code block, click into it to activate and then press `CTRL+ Enter`. There is a Python logo at the top right of the notebook that indicates whether there are still operations running.\n",
    "\n",
    "### Install necessary dependencies in Python\n",
    "\n",
    "The following code block uses Anaconda to fetch necessary packages. Start the code by pressing `CTRL+ Enter` inside the code block."
   ]
  },
  {
   "cell_type": "code",
   "execution_count": null,
   "metadata": {
    "scrolled": true
   },
   "outputs": [],
   "source": [
    "# this will load the package needed for python package management\n",
    "import conda.cli\n",
    "\n",
    "# this will install the dependencies\n",
    "conda.cli.main('conda', 'install',  '-y', 'numpy', 'scipy', 'pandas', 'scikit-image', 'git', 'pip')\n",
    "conda.cli.main('conda', 'install',  '-y', '-c conda-forge', 'tifffile')"
   ]
  },
  {
   "cell_type": "markdown",
   "metadata": {},
   "source": [
    "## install/update emTools <a name=\"install1\"></a>\n",
    "\n",
    "Now we can install emTools using pip, another package manager for Python. Start by pressing `CTRL+ Enter` inside the code block. \n",
    "\n",
    "To update to the current version, simply execut this code block anytime."
   ]
  },
  {
   "cell_type": "code",
   "execution_count": null,
   "metadata": {},
   "outputs": [],
   "source": [
    "# this will load the pip package needed for python package management\n",
    "from pip._internal import main as pipmain\n",
    "\n",
    "# this will install the current version of emTools\n",
    "pipmain(['install','git+https://git.embl.de/schorb/serialem_tools'])"
   ]
  },
  {
   "cell_type": "markdown",
   "metadata": {},
   "source": [
    "----\n",
    "\n",
    "\n",
    "\n",
    "## Getting started <a name=\"howtos\"></a>\n",
    "\n",
    "\n",
    "\n",
    "### Tutorial 1: Sort a navigator file<a name=\"tutorial1\"></a>\n",
    "\n",
    "Have a look at the files in the directory \"`tutorials/Tutorial1-sorting`\". If you open the navigator file `nav1.nav` in SerialEM, you will get the following:\n",
    "\n",
    "#### the Navigator\n",
    "![The navigator](images/nav1_1.png)\n",
    "\n",
    "If you double-click the `Map` item, you will see this:\n",
    "#### the Map\n",
    "![The cells](images/nav1.png)\n",
    "\n",
    "\n"
   ]
  }
 ],
 "metadata": {
  "kernelspec": {
   "display_name": "Python 2",
   "language": "python",
   "name": "python2"
  },
  "language_info": {
   "codemirror_mode": {
    "name": "ipython",
    "version": 2
   },
   "file_extension": ".py",
   "mimetype": "text/x-python",
   "name": "python",
   "nbconvert_exporter": "python",
   "pygments_lexer": "ipython2",
   "version": "2.7.15"
  }
 },
 "nbformat": 4,
 "nbformat_minor": 2
}
