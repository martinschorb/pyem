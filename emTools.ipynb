{
 "cells": [
  {
   "cell_type": "markdown",
   "metadata": {},
   "source": [
    "# emTools\n",
    "\n",
    "### a Python module to interact with SerialEM to enable automated Transmission Electron Microscopy\n",
    "\n",
    "## Table of contents\n",
    "1. [Installation instructions](#installation)\n",
    "  - How to use this jupyter notebook\n",
    "  - Install necessary dependencies in Python\n",
    "  - [install/update emTools](#install1)\n",
    "\n",
    "2. [Getting started](#howtos)\n",
    "  - [Tutorial 1: Sort a Navigator](#tutorial1)\n"
   ]
  },
  {
   "cell_type": "markdown",
   "metadata": {},
   "source": [
    "## Installation instructions<a name=\"installation\"></a>\n",
    "\n",
    "### Prepare your PC for the use of Python and emTools\n",
    "\n",
    "- first we will install Python and then use it to fetch the packages needed for emTools to work.\n",
    "- Install Anaconda from [here](https://www.anaconda.com/download/ \"Download Anaconda\"). EmTools has been tested to work with both Python 2 and 3. Choose the appropriate OS.\n",
    "- Start the Anaconda [Navigator](http://docs.anaconda.com/anaconda/user-guide/getting-started/ \"Getting started with Anaconda\").\n",
    "- as explained in [section 4](http://docs.anaconda.com/anaconda/user-guide/getting-started/#run-python-in-a-jupyter-notebook \"Run Python in a Jupyter Notebook\"), install and start a Jupyter notebook.\n",
    "- Download this [tutorial file](https://git.embl.de/schorb/serialem_tools/raw/master/emTools.ipynb) (use \"save link as...\"), open it in your Jupyter session and follow the instructions."
   ]
  },
  {
   "cell_type": "markdown",
   "metadata": {},
   "source": [
    "----\n",
    "### How to use this jupyter notebook\n",
    "\n",
    "In this document there are text blocks and code blocks that can be edited and executed.\n",
    "In order to run a code block, click into it to activate and then press `CTRL+ Enter`. There is a Python logo at the top right of the notebook that indicates whether there are still operations running.\n",
    "\n",
    "### Install necessary dependencies in Python\n",
    "\n",
    "The following code block uses Anaconda to fetch necessary packages. Start the code by pressing `CTRL+ Enter` inside the code block."
   ]
  },
  {
   "cell_type": "code",
   "execution_count": null,
   "metadata": {
    "scrolled": true
   },
   "outputs": [],
   "source": [
    "# this will load the package needed for python package management\n",
    "import conda.cli\n",
    "\n",
    "# this will install the dependencies\n",
    "conda.cli.main('conda', 'install',  '-y', 'numpy', 'scipy', 'pandas', 'scikit-image', 'git', 'pip')\n",
    "conda.cli.main('conda', 'install',  '-y', '-c conda-forge', 'tifffile')"
   ]
  },
  {
   "cell_type": "markdown",
   "metadata": {},
   "source": [
    "## install/update emTools <a name=\"install1\"></a>\n",
    "\n",
    "Now we can install emTools using pip, another package manager for Python. Start by pressing `CTRL+ Enter` inside the code block. \n",
    "\n",
    "To update to the current version, simply execut this code block anytime."
   ]
  },
  {
   "cell_type": "code",
   "execution_count": null,
   "metadata": {},
   "outputs": [],
   "source": [
    "# this will load the pip package needed for python package management\n",
    "from pip._internal import main as pipmain\n",
    "\n",
    "# this will install the current version of emTools\n",
    "pipmain(['install','git+https://git.embl.de/schorb/serialem_tools'])"
   ]
  },
  {
   "cell_type": "markdown",
   "metadata": {},
   "source": [
    "----\n",
    "\n",
    "\n",
    "\n",
    "## Getting started <a name=\"howtos\"></a>\n",
    "\n",
    "\n",
    "\n",
    "### Tutorial 1: Sort a navigator file<a name=\"tutorial1\"></a>\n",
    "\n",
    "Have a look at the files in the directory [\"`tutorials/Tutorial1-sorting`\"](https://git.embl.de/schorb/serialem_tools/tree/master/tutorials/Tutorial1-sorting). If you open the navigator file `nav1.nav` in SerialEM, you will get the following:\n",
    "\n",
    "#### the Navigator\n",
    "![The navigator](images/nav1_1.png)\n",
    "\n",
    "If you double-click the `Map` item, you will see this:\n",
    "#### the Map\n",
    "![The cells](images/nav1.png)\n",
    "\n",
    "We have a series of points for each cell. However they are not listed such that all points lying within one cell are acquired in a row.\n",
    "\n",
    "Let's use emTools to create a sorted Navigator file.\n",
    "\n",
    "\n",
    "#### Reading in the Navigator\n",
    "\n",
    "First, we will import the emTools module and thus makei its functions available for the Python script.\n",
    "Then we will read in the Navigator file.\n",
    "\n"
   ]
  },
  {
   "cell_type": "code",
   "execution_count": null,
   "metadata": {},
   "outputs": [],
   "source": [
    "# import the emTools module and make its functions available\n",
    "import emtools as em\n",
    "\n",
    "# load the navigator file\n",
    "navfile = 'tutorials/Tutorial1-sorting/nav1.nav'\n",
    "navlines = em.loadtext(navfile)\n",
    "\n",
    "# now we have a list of strings for each row of the file, let's look at the first 10.\n",
    "print('first 10 lines of the navigator: \\n')\n",
    "print(navlines[0:10])\n",
    "print('\\n----\\n')\n",
    "\n",
    "\n",
    "# let's convert them into a list of dictionaries with one entry for each navigator Item\n",
    "allitems = em.fullnav(navlines)\n",
    "# Let look at one item\n",
    "print('Item number 7 from the navigator file: \\n')\n",
    "print(allitems[6])\n",
    "print('\\n----\\n')\n",
    "\n",
    "# Each entry for this item is associated with a dedicated key. For example the Stage Coordinates\n",
    "print('Stage coordinates of item number 4: \\n')\n",
    "print(allitems[3]['StageXYZ'])\n",
    "print('\\n----\\n')\n",
    "\n"
   ]
  },
  {
   "cell_type": "markdown",
   "metadata": {},
   "source": [
    "\n",
    "\n",
    "#### Now, let's find out how to order a navigator list using the function `ordernav`.\n",
    "\n",
    "\n"
   ]
  },
  {
   "cell_type": "code",
   "execution_count": null,
   "metadata": {},
   "outputs": [],
   "source": [
    "newnav = em.ordernav(allitems)\n",
    "\n",
    "print('Let\\'s look at the first points in the list...')\n",
    "print(newnav[1]['# Item'])\n",
    "print(newnav[2]['# Item'])\n",
    "print(newnav[3]['# Item'])\n",
    "print(newnav[4]['# Item'])\n",
    "print(newnav[5]['# Item'])\n",
    "print(newnav[6]['# Item'])\n",
    "print(newnav[7]['# Item'])\n",
    "\n",
    "# and now we need to write the ordered navigator file.\n",
    "\n",
    "# create new file by copying the header of the input file\n",
    "newnavf = navfile[:-4] + '_sorted.nav'\n",
    "nnf = open(newnavf,'w')\n",
    "nnf.write(\"%s\\n\" % navlines[0])\n",
    "nnf.write(\"%s\\n\" % navlines[1])\n",
    "\n",
    "# fill the new file   \n",
    "for nitem in newnav: \n",
    "    out = em.itemtonav(nitem,nitem['# Item'])\n",
    "    for item in out: nnf.write(\"%s\\n\" % item)\n",
    "            \n",
    "nnf.close()\n",
    "\n",
    "# done"
   ]
  },
  {
   "cell_type": "markdown",
   "metadata": {},
   "source": [
    "----\n",
    "\n",
    "and this is what we get...\n",
    "\n",
    "![The sorted navigator](images/nav1_sorted.png)\n",
    "\n",
    "\n",
    "----\n",
    "\n",
    "#### Batch process parameters of navigator items\n",
    "\n",
    "Let's now also try and see if we can change some of the general parameters of these navigator items, like for example z-height, color or the 'Acquire' flag."
   ]
  },
  {
   "cell_type": "code",
   "execution_count": null,
   "metadata": {
    "collapsed": true
   },
   "outputs": [],
   "source": [
    "# create new file by copying the header of the input file\n",
    "newnavf = navfile[:-4] + '_playground.nav'\n",
    "nnf = open(newnavf,'w')\n",
    "nnf.write(\"%s\\n\" % navlines[0])\n",
    "nnf.write(\"%s\\n\"% navlines[1])\n",
    "\n",
    "# create a new list to collect ouput navigator items.\n",
    "outnav=list()\n",
    "\n",
    "# add the map. This we don't want to modify\n",
    "outnav.append(newnav[0])\n",
    "\n",
    "# Then modify and add the rest...\n",
    "\n",
    "for item in newnav[1:] :\n",
    "    item['StageXYZ'][2] = '31.415'\n",
    "    item['Color'] = ['3']\n",
    "    item['Acquire'] = ['1']\n",
    "    outnav.append(item)\n",
    "\n",
    "# fill the new file   \n",
    "for nitem in outnav: \n",
    "    out = em.itemtonav(nitem,nitem['# Item'])\n",
    "    for item in out: nnf.write(\"%s\\n\" % item)\n",
    "            \n",
    "nnf.close()\n",
    "\n",
    "# done"
   ]
  },
  {
   "cell_type": "markdown",
   "metadata": {},
   "source": [
    "----\n",
    "\n",
    "and we get...\n",
    "\n",
    "![The modified navigator](images/nav1_playground.png)\n",
    "\n",
    "\n",
    "yellow points at the new height that are set to be acquired.\n",
    "\n",
    "----"
   ]
  }
 ],
 "metadata": {
  "kernelspec": {
   "display_name": "Python 2",
   "language": "python",
   "name": "python2"
  },
  "language_info": {
   "codemirror_mode": {
    "name": "ipython",
    "version": 2
   },
   "file_extension": ".py",
   "mimetype": "text/x-python",
   "name": "python",
   "nbconvert_exporter": "python",
   "pygments_lexer": "ipython2",
   "version": "2.7.15"
  }
 },
 "nbformat": 4,
 "nbformat_minor": 2
}
